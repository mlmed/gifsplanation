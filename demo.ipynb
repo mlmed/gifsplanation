{
 "cells": [
  {
   "cell_type": "markdown",
   "metadata": {},
   "source": [
    "[![Open In Colab](https://colab.research.google.com/assets/colab-badge.svg)](https://colab.research.google.com/github/mlmed/gifsplanation/blob/main/demo.ipynb)\n"
   ]
  },
  {
   "cell_type": "code",
   "execution_count": 2,
   "metadata": {},
   "outputs": [],
   "source": [
    "%matplotlib inline"
   ]
  },
  {
   "cell_type": "code",
   "execution_count": 1,
   "metadata": {
    "id": "pQz236vIDMYQ"
   },
   "outputs": [],
   "source": [
    "!pip -q install torchxrayvision captum"
   ]
  },
  {
   "cell_type": "code",
   "execution_count": 2,
   "metadata": {
    "colab": {
     "base_uri": "https://localhost:8080/"
    },
    "id": "eKmI41XnDFuI",
    "outputId": "33895106-a848-41f2-dca8-55bd910bd973"
   },
   "outputs": [
    {
     "name": "stdout",
     "output_type": "stream",
     "text": [
      "fatal: destination path 'gifsplanation' already exists and is not an empty directory.\n"
     ]
    }
   ],
   "source": [
    "!git clone https://github.com/mlmed/gifsplanation"
   ]
  },
  {
   "cell_type": "code",
   "execution_count": 3,
   "metadata": {
    "id": "W5-4H-QiDtoI"
   },
   "outputs": [],
   "source": [
    "import sys,os\n",
    "sys.path.insert(0,\"./gifsplanation/\")\n",
    "sys.path.insert(0,\"../torchxrayvision/\")\n",
    "import skimage\n",
    "import numpy as np\n",
    "import torch, torchvision\n",
    "import torchxrayvision as xrv\n",
    "import matplotlib.pyplot as plt"
   ]
  },
  {
   "cell_type": "code",
   "execution_count": 4,
   "metadata": {
    "id": "CLEWPEBnDS5M"
   },
   "outputs": [],
   "source": [
    "import attribution"
   ]
  },
  {
   "cell_type": "code",
   "execution_count": 4,
   "metadata": {
    "id": "YUwEvEXeDaNL"
   },
   "outputs": [],
   "source": [
    "!wget -q https://mlmed.org/gifsplanation/data/PC-Mass.png"
   ]
  },
  {
   "cell_type": "code",
   "execution_count": 5,
   "metadata": {
    "id": "WSYAj8UgI8P0"
   },
   "outputs": [],
   "source": [
    "img = skimage.io.imread(\"PC-Mass.png\")\n",
    "img = xrv.datasets.normalize(img, 255)  \n",
    "\n",
    "# Check that images are 2D arrays\n",
    "if len(img.shape) > 2:\n",
    "    img = img[:, :, 0]\n",
    "if len(img.shape) < 2:\n",
    "    print(\"error, dimension lower than 2 for image\")\n",
    "\n",
    "# Add color channel\n",
    "img = img[None, :, :]                    \n",
    "\n",
    "transform = torchvision.transforms.Compose([xrv.datasets.XRayCenterCrop(),\n",
    "                                            xrv.datasets.XRayResizer(224)])\n",
    "img = transform(img)\n",
    "img = image = torch.from_numpy(img).unsqueeze(0)"
   ]
  },
  {
   "cell_type": "code",
   "execution_count": 6,
   "metadata": {
    "colab": {
     "base_uri": "https://localhost:8080/"
    },
    "id": "M_5gEtlpJYoN",
    "outputId": "d89c1db2-ff0c-4dca-a581-99e50307c422"
   },
   "outputs": [
    {
     "data": {
      "text/plain": [
       "torch.Size([1, 1, 224, 224])"
      ]
     },
     "execution_count": 6,
     "metadata": {},
     "output_type": "execute_result"
    }
   ],
   "source": [
    "img.shape"
   ]
  },
  {
   "cell_type": "code",
   "execution_count": 7,
   "metadata": {
    "colab": {
     "base_uri": "https://localhost:8080/",
     "height": 35
    },
    "id": "prcZCdYeKN9n",
    "outputId": "1ad3ba38-6cbb-4499-a199-4972ec1777b4"
   },
   "outputs": [
    {
     "data": {
      "text/plain": [
       "'cuda'"
      ]
     },
     "execution_count": 7,
     "metadata": {},
     "output_type": "execute_result"
    }
   ],
   "source": [
    "device = \"cpu\"\n",
    "if torch.cuda.is_available():\n",
    "    device = \"cuda\"\n",
    "device"
   ]
  },
  {
   "cell_type": "code",
   "execution_count": 8,
   "metadata": {
    "colab": {
     "base_uri": "https://localhost:8080/"
    },
    "id": "Wt61uG00KN7u",
    "outputId": "b8746390-bbeb-4ff5-a32a-305e357b63fd"
   },
   "outputs": [
    {
     "data": {
      "text/plain": [
       "XRV-ResNetAE-101-elastic"
      ]
     },
     "execution_count": 8,
     "metadata": {},
     "output_type": "execute_result"
    }
   ],
   "source": [
    "ae = xrv.autoencoders.ResNetAE(weights=\"101-elastic\").to(device)\n",
    "ae"
   ]
  },
  {
   "cell_type": "code",
   "execution_count": 9,
   "metadata": {
    "colab": {
     "base_uri": "https://localhost:8080/"
    },
    "id": "Xqd1fFzAKN5s",
    "outputId": "842618b0-3112-4b13-dfde-e12cbc6f931e"
   },
   "outputs": [
    {
     "data": {
      "text/plain": [
       "XRV-DenseNet121-all"
      ]
     },
     "execution_count": 9,
     "metadata": {},
     "output_type": "execute_result"
    }
   ],
   "source": [
    "model = xrv.models.DenseNet(weights=\"all\").to(device)\n",
    "model"
   ]
  },
  {
   "cell_type": "code",
   "execution_count": 10,
   "metadata": {
    "colab": {
     "base_uri": "https://localhost:8080/"
    },
    "id": "scbN5DzLKN3W",
    "outputId": "e7e556dc-0263-4569-fd36-ef8532682534"
   },
   "outputs": [
    {
     "data": {
      "text/plain": [
       "['Atelectasis',\n",
       " 'Consolidation',\n",
       " 'Infiltration',\n",
       " 'Pneumothorax',\n",
       " 'Edema',\n",
       " 'Emphysema',\n",
       " 'Fibrosis',\n",
       " 'Effusion',\n",
       " 'Pneumonia',\n",
       " 'Pleural_Thickening',\n",
       " 'Cardiomegaly',\n",
       " 'Nodule',\n",
       " 'Mass',\n",
       " 'Hernia',\n",
       " 'Lung Lesion',\n",
       " 'Fracture',\n",
       " 'Lung Opacity',\n",
       " 'Enlarged Cardiomediastinum']"
      ]
     },
     "execution_count": 10,
     "metadata": {},
     "output_type": "execute_result"
    }
   ],
   "source": [
    "model.pathologies"
   ]
  },
  {
   "cell_type": "code",
   "execution_count": 11,
   "metadata": {
    "id": "nOTtUkfwKfdP"
   },
   "outputs": [],
   "source": [
    "target = \"Mass\""
   ]
  },
  {
   "cell_type": "code",
   "execution_count": null,
   "metadata": {
    "colab": {
     "base_uri": "https://localhost:8080/"
    },
    "id": "BXb2Yk__JAkB",
    "outputId": "00bca0c7-3eac-472a-9310-c746a9361497"
   },
   "outputs": [],
   "source": [
    "params = attribution.compute_attribution(img.to(device), \"latentshift\", model, target, ret_params=True, ae=ae)\n"
   ]
  },
  {
   "cell_type": "code",
   "execution_count": null,
   "metadata": {
    "colab": {
     "base_uri": "https://localhost:8080/",
     "height": 183
    },
    "id": "sYYsjMeAKhqm",
    "outputId": "ecaccab6-882d-426e-a061-3a2f905428e1"
   },
   "outputs": [],
   "source": [
    "dimgs = np.concatenate(params[\"dimgs\"],1)[0]\n",
    "fig, ax = plt.subplots(1,1, figsize=(8,3), dpi=350)\n",
    "plt.imshow(np.concatenate(dimgs,1), interpolation='none', cmap=\"gray\");\n",
    "plt.axis('off');"
   ]
  },
  {
   "cell_type": "code",
   "execution_count": null,
   "metadata": {
    "colab": {
     "base_uri": "https://localhost:8080/",
     "height": 674
    },
    "id": "NMp2-p-0LWI6",
    "outputId": "344ee45c-c3d7-48e0-8499-da6d40935655"
   },
   "outputs": [],
   "source": [
    "%matplotlib inline\n",
    "attribution.generate_video(image, model, target, ae, target_filename=\"test\", border=False, show=True,\n",
    "                           ffmpeg_path=\"/share/software/user/open/ffmpeg/4.2.1/bin/ffmpeg\")"
   ]
  },
  {
   "cell_type": "code",
   "execution_count": null,
   "metadata": {},
   "outputs": [],
   "source": []
  },
  {
   "cell_type": "code",
   "execution_count": null,
   "metadata": {},
   "outputs": [],
   "source": []
  },
  {
   "cell_type": "code",
   "execution_count": null,
   "metadata": {},
   "outputs": [],
   "source": []
  },
  {
   "cell_type": "code",
   "execution_count": null,
   "metadata": {},
   "outputs": [],
   "source": []
  }
 ],
 "metadata": {
  "accelerator": "GPU",
  "colab": {
   "collapsed_sections": [],
   "name": "Untitled8.ipynb",
   "provenance": []
  },
  "kernelspec": {
   "display_name": "Python 3",
   "language": "python",
   "name": "python3"
  },
  "language_info": {
   "codemirror_mode": {
    "name": "ipython",
    "version": 3
   },
   "file_extension": ".py",
   "mimetype": "text/x-python",
   "name": "python",
   "nbconvert_exporter": "python",
   "pygments_lexer": "ipython3",
   "version": "3.6.1"
  }
 },
 "nbformat": 4,
 "nbformat_minor": 1
}
