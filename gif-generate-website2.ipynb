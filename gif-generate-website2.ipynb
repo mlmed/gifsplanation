{
 "cells": [
  {
   "cell_type": "code",
   "execution_count": 1,
   "metadata": {},
   "outputs": [],
   "source": [
    "%load_ext autoreload\n",
    "%autoreload 2\n",
    "%matplotlib inline"
   ]
  },
  {
   "cell_type": "code",
   "execution_count": 2,
   "metadata": {},
   "outputs": [],
   "source": [
    "import torchvision, torch"
   ]
  },
  {
   "cell_type": "code",
   "execution_count": 3,
   "metadata": {},
   "outputs": [],
   "source": [
    "import sys, os\n",
    "sys.path.insert(0,\"../torchxrayvision/\")\n",
    "import torchxrayvision as xrv\n",
    "import matplotlib.pyplot as plt\n",
    "import torch\n",
    "from torch.nn import functional as F\n",
    "import glob\n",
    "import numpy as np\n",
    "import skimage, skimage.filters\n",
    "%matplotlib inline\n",
    "import captum, captum.attr\n",
    "import torch, torch.nn\n",
    "import pickle\n",
    "import attribution\n",
    "import pandas as pd\n",
    "import datasets\n",
    "import shutil\n",
    "import json\n",
    "import glob"
   ]
  },
  {
   "cell_type": "code",
   "execution_count": 4,
   "metadata": {},
   "outputs": [],
   "source": [
    "def full_frame(width=None, height=None):\n",
    "    import matplotlib as mpl\n",
    "    mpl.rcParams['savefig.pad_inches'] = 0\n",
    "    figsize = None if width is None else (width, height)\n",
    "    fig = plt.figure(figsize=figsize)\n",
    "    ax = plt.axes([0,0,1,1], frameon=False)\n",
    "    ax.get_xaxis().set_visible(False)\n",
    "    ax.get_yaxis().set_visible(False)\n",
    "    plt.autoscale(tight=True)"
   ]
  },
  {
   "cell_type": "code",
   "execution_count": null,
   "metadata": {},
   "outputs": [],
   "source": []
  },
  {
   "cell_type": "code",
   "execution_count": null,
   "metadata": {},
   "outputs": [],
   "source": []
  },
  {
   "cell_type": "code",
   "execution_count": 5,
   "metadata": {},
   "outputs": [],
   "source": [
    "ae = xrv.autoencoders.ResNetAE(weights=\"101-elastic\").cuda()"
   ]
  },
  {
   "cell_type": "code",
   "execution_count": 6,
   "metadata": {},
   "outputs": [],
   "source": [
    "models = [xrv.models.DenseNet(weights=\"all\").cuda(),\n",
    "#           xrv.models.DenseNet(weights=\"pc\").cuda(),\n",
    "#           xrv.models.DenseNet(weights=\"nih\").cuda(),\n",
    "#           xrv.models.DenseNet(weights=\"chex\").cuda(),\n",
    "          xrv.models.DenseNet(weights=\"mimic_ch\").cuda(),\n",
    "          xrv.baseline_models.jfhealthcare.DenseNet().cuda()]"
   ]
  },
  {
   "cell_type": "code",
   "execution_count": 7,
   "metadata": {},
   "outputs": [
    {
     "name": "stdout",
     "output_type": "stream",
     "text": [
      "['Atelectasis', 'Consolidation', 'Infiltration', 'Pneumothorax', 'Edema', 'Emphysema', 'Fibrosis', 'Effusion', 'Pneumonia', 'Pleural_Thickening', 'Cardiomegaly', 'Nodule', 'Mass', 'Hernia', 'Lung Lesion', 'Fracture', 'Lung Opacity', 'Enlarged Cardiomediastinum']\n",
      "XRV-DenseNet121-all\n"
     ]
    }
   ],
   "source": [
    "model = models[0]\n",
    "print(model.pathologies)\n",
    "print(model)"
   ]
  },
  {
   "cell_type": "code",
   "execution_count": 8,
   "metadata": {},
   "outputs": [
    {
     "name": "stdout",
     "output_type": "stream",
     "text": [
      "Merge_Dataset num_samples=173479\n",
      "└ PC_Dataset num_samples=91658 views=['PA'] data_aug=None\n",
      "└ RSNA_Pneumonia_Dataset num_samples=14511 views=['PA'] data_aug=None\n",
      "└ NIH_Dataset num_samples=67310 views=['PA'] data_aug=None\n",
      "\n"
     ]
    }
   ],
   "source": [
    "dmerge = datasets.get_data(\"nih-pc-rsna\")"
   ]
  },
  {
   "cell_type": "code",
   "execution_count": null,
   "metadata": {},
   "outputs": [],
   "source": []
  },
  {
   "cell_type": "code",
   "execution_count": 9,
   "metadata": {},
   "outputs": [],
   "source": [
    "for_eval = ['Cardiomegaly','Effusion',\n",
    "          'Atelectasis', 'Consolidation', 'Mass',\n",
    "          'Pneumothorax', 'Infiltration', 'Edema', \n",
    "          'Emphysema', 'Fibrosis',  'Pneumonia', \n",
    "          'Pleural_Thickening',\n",
    "          'Hernia',\n",
    "          'Lung Opacity']"
   ]
  },
  {
   "cell_type": "code",
   "execution_count": null,
   "metadata": {},
   "outputs": [],
   "source": []
  },
  {
   "cell_type": "code",
   "execution_count": null,
   "metadata": {},
   "outputs": [],
   "source": []
  },
  {
   "cell_type": "code",
   "execution_count": null,
   "metadata": {},
   "outputs": [],
   "source": []
  },
  {
   "cell_type": "code",
   "execution_count": null,
   "metadata": {},
   "outputs": [],
   "source": []
  },
  {
   "cell_type": "code",
   "execution_count": 10,
   "metadata": {},
   "outputs": [],
   "source": [
    "# target = \"Effusion\"\n",
    "# label = 1\n",
    "# dwhere = np.where((dmerge.labels[:,dmerge.pathologies.index(target)]  == label))[0]\n",
    "# dwhere[:10]"
   ]
  },
  {
   "cell_type": "code",
   "execution_count": 10,
   "metadata": {},
   "outputs": [],
   "source": [
    "folder = \"images3/\"\n",
    "temp_path = \"/lscratch/joecohen/SDS-2342-ASDAA\""
   ]
  },
  {
   "cell_type": "code",
   "execution_count": null,
   "metadata": {},
   "outputs": [],
   "source": []
  },
  {
   "cell_type": "code",
   "execution_count": 270,
   "metadata": {},
   "outputs": [],
   "source": [
    "target = \"Lung Opacity\"\n",
    "dwhere = np.where((dmerge.labels[:,dmerge.pathologies.index(target)]  == 1))[0]\n",
    "\n",
    "idxs = []\n",
    "ps = []\n",
    "for idx in np.random.choice(dwhere,30):\n",
    "    sample = dmerge[idx]\n",
    "    image = torch.from_numpy(sample[\"img\"]).unsqueeze(0).cuda()\n",
    "    p = models[0](image)[:,models[0].pathologies.index(target)].detach().cpu()\n",
    "    if p > 0.5:\n",
    "        idxs.append(idx)\n",
    "        ps.append(p)"
   ]
  },
  {
   "cell_type": "code",
   "execution_count": 271,
   "metadata": {},
   "outputs": [
    {
     "data": {
      "text/plain": [
       "array([102170, 101901, 100305, 100667, 102072,  93358,  92329, 100973,\n",
       "        92254, 105514,  92359,  92962,  93206, 102564, 102564, 101097,\n",
       "       102159,  97552,  97806, 103490, 101497, 103310,  94470,  92045])"
      ]
     },
     "execution_count": 271,
     "metadata": {},
     "output_type": "execute_result"
    }
   ],
   "source": [
    "np.array(idxs)[np.argsort(ps)]"
   ]
  },
  {
   "cell_type": "code",
   "execution_count": 272,
   "metadata": {},
   "outputs": [
    {
     "data": {
      "text/plain": [
       "array([0.5403551 , 0.61227524, 0.64109164, 0.6490886 , 0.6506804 ,\n",
       "       0.65122926, 0.68513167, 0.6968231 , 0.7174721 , 0.7226087 ,\n",
       "       0.733233  , 0.74165726, 0.7482377 , 0.7734405 , 0.7734405 ,\n",
       "       0.78462076, 0.7896426 , 0.8051019 , 0.80828714, 0.811821  ,\n",
       "       0.82119316, 0.82872313, 0.8516433 , 0.9723157 ], dtype=float32)"
      ]
     },
     "execution_count": 272,
     "metadata": {},
     "output_type": "execute_result"
    }
   ],
   "source": [
    "np.array(ps)[np.argsort(ps)]"
   ]
  },
  {
   "cell_type": "code",
   "execution_count": 274,
   "metadata": {
    "scrolled": false
   },
   "outputs": [],
   "source": [
    "# for idx in reversed(np.array(idxs)[np.argsort(ps)]):\n",
    "#     print(idx)\n",
    "#     sample = dmerge[idx]\n",
    "#     image = torch.from_numpy(sample[\"img\"]).unsqueeze(0).cuda()\n",
    "#     r = attribution.generate_video(image, models[0], target, ae, temp_path, \n",
    "#                                            border=True, show=True)\n",
    "#     display(r)"
   ]
  },
  {
   "cell_type": "code",
   "execution_count": null,
   "metadata": {},
   "outputs": [],
   "source": []
  },
  {
   "cell_type": "code",
   "execution_count": null,
   "metadata": {},
   "outputs": [],
   "source": []
  },
  {
   "cell_type": "code",
   "execution_count": null,
   "metadata": {},
   "outputs": [],
   "source": []
  },
  {
   "cell_type": "code",
   "execution_count": null,
   "metadata": {},
   "outputs": [],
   "source": []
  },
  {
   "cell_type": "code",
   "execution_count": null,
   "metadata": {},
   "outputs": [],
   "source": [
    "# for t in for_eval:\n",
    "#     print(\"to_plot[\\\"{}\\\"] = \".format(t))"
   ]
  },
  {
   "cell_type": "code",
   "execution_count": 11,
   "metadata": {},
   "outputs": [],
   "source": [
    "to_plot = {}\n",
    "to_plot[\"Cardiomegaly\"] = 10201\n",
    "to_plot[\"Effusion\"] =  36121\n",
    "to_plot[\"Atelectasis\"] = 128243\n",
    "to_plot[\"Consolidation\"] = 68669\n",
    "to_plot[\"Mass\"] = 8865\n",
    "to_plot[\"Pneumothorax\"] = 145736\n",
    "to_plot[\"Infiltration\"] = 155917\n",
    "to_plot[\"Edema\"] = 130535\n",
    "to_plot[\"Emphysema\"] = 39046\n",
    "to_plot[\"Fibrosis\"] = 151247\n",
    "to_plot[\"Pneumonia\"] = 17137\n",
    "to_plot[\"Pleural_Thickening\"] = 20735\n",
    "to_plot[\"Hernia\"] = 126989\n",
    "to_plot[\"Lung Opacity\"] = 102564"
   ]
  },
  {
   "cell_type": "code",
   "execution_count": 59,
   "metadata": {
    "scrolled": false
   },
   "outputs": [
    {
     "name": "stdout",
     "output_type": "stream",
     "text": [
      "[0.5127366] -1000 400\n",
      "0\n",
      "10\n",
      "20\n",
      "module load ffmpeg;ffmpeg -loglevel quiet -stats -y -i /lscratch/joecohen/SDS-2342-ASDAA/image-%d-a.png -c:v libx264 -profile:v baseline -level 3.0 -pix_fmt yuv420p 'videos/single-Emphysema_XRV-ResNetAE-101-elastic_XRV-DenseNet121-all_.mp4'\n"
     ]
    },
    {
     "data": {
      "text/html": [
       "<video controls  >\n",
       " <source src=\"data:video/mp4;base64,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\" type=\"video/mp4\">\n",
       " Your browser does not support the video tag.\n",
       " </video>"
      ],
      "text/plain": [
       "<IPython.core.display.Video object>"
      ]
     },
     "execution_count": 59,
     "metadata": {},
     "output_type": "execute_result"
    }
   ],
   "source": [
    "target = \"Emphysema\"\n",
    "sample = dmerge[to_plot[target]]\n",
    "image = torch.from_numpy(sample[\"img\"]).unsqueeze(0).cuda()\n",
    "#attribution.generate_attributions(sample, models[0], target, ae, temp_path, dmerge)\n",
    "attribution.generate_video(image, models[0], target, ae, temp_path, border=True, show=True)"
   ]
  },
  {
   "cell_type": "code",
   "execution_count": null,
   "metadata": {},
   "outputs": [],
   "source": []
  },
  {
   "cell_type": "code",
   "execution_count": null,
   "metadata": {},
   "outputs": [],
   "source": []
  },
  {
   "cell_type": "code",
   "execution_count": null,
   "metadata": {},
   "outputs": [],
   "source": []
  },
  {
   "cell_type": "code",
   "execution_count": 32,
   "metadata": {
    "scrolled": false
   },
   "outputs": [
    {
     "name": "stdout",
     "output_type": "stream",
     "text": [
      "Cardiomegaly\n",
      "already computed\n",
      "images3/PC_Dataset-10201199918783419519779794936126082408474409-Cardiomegaly-1.png\n",
      "images3/PC_Dataset-10201199918783419519779794936126082408474409-Cardiomegaly-1-XRV-DenseNet121-all\n",
      "[0.39048815] -70 1\n",
      "0\n",
      "10\n",
      "20\n",
      "module load ffmpeg;ffmpeg -loglevel quiet -stats -y -i /lscratch/joecohen/SDS-2342-ASDAA/image-%d-a.png -c:v libx264 -profile:v baseline -level 3.0 -pix_fmt yuv420p 'images3/PC_Dataset-10201199918783419519779794936126082408474409-Cardiomegaly-1-XRV-DenseNet121-all-latentshift.mp4'\n",
      "[0.39048815] -70 1\n",
      "images3/PC_Dataset-10201199918783419519779794936126082408474409-Cardiomegaly-1-XRV-DenseNet121-all-latentshift-max.png\n",
      "images3/PC_Dataset-10201199918783419519779794936126082408474409-Cardiomegaly-1-XRV-DenseNet121-mimic_ch\n",
      "[0.4034218] -60 1\n",
      "0\n",
      "10\n",
      "20\n",
      "module load ffmpeg;ffmpeg -loglevel quiet -stats -y -i /lscratch/joecohen/SDS-2342-ASDAA/image-%d-a.png -c:v libx264 -profile:v baseline -level 3.0 -pix_fmt yuv420p 'images3/PC_Dataset-10201199918783419519779794936126082408474409-Cardiomegaly-1-XRV-DenseNet121-mimic_ch-latentshift.mp4'\n",
      "[0.4034218] -60 1\n",
      "images3/PC_Dataset-10201199918783419519779794936126082408474409-Cardiomegaly-1-XRV-DenseNet121-mimic_ch-latentshift-max.png\n",
      "images3/PC_Dataset-10201199918783419519779794936126082408474409-Cardiomegaly-1-jfhealthcare-DenseNet121\n",
      "[0.55797625] -80 2\n",
      "0\n",
      "10\n",
      "20\n",
      "module load ffmpeg;ffmpeg -loglevel quiet -stats -y -i /lscratch/joecohen/SDS-2342-ASDAA/image-%d-a.png -c:v libx264 -profile:v baseline -level 3.0 -pix_fmt yuv420p 'images3/PC_Dataset-10201199918783419519779794936126082408474409-Cardiomegaly-1-jfhealthcare-DenseNet121-latentshift.mp4'\n",
      "[0.55797625] -80 2\n",
      "images3/PC_Dataset-10201199918783419519779794936126082408474409-Cardiomegaly-1-jfhealthcare-DenseNet121-latentshift-max.png\n",
      "Effusion\n",
      "already computed\n",
      "images3/PC_Dataset-36121320013082349055928370704331338105989249-Effusion-1.png\n",
      "images3/PC_Dataset-36121320013082349055928370704331338105989249-Effusion-1-XRV-DenseNet121-all\n",
      "[0.07936092] -220 20\n",
      "0\n",
      "10\n",
      "20\n",
      "module load ffmpeg;ffmpeg -loglevel quiet -stats -y -i /lscratch/joecohen/SDS-2342-ASDAA/image-%d-a.png -c:v libx264 -profile:v baseline -level 3.0 -pix_fmt yuv420p 'images3/PC_Dataset-36121320013082349055928370704331338105989249-Effusion-1-XRV-DenseNet121-all-latentshift.mp4'\n",
      "[0.07936092] -220 20\n",
      "images3/PC_Dataset-36121320013082349055928370704331338105989249-Effusion-1-XRV-DenseNet121-all-latentshift-max.png\n",
      "images3/PC_Dataset-36121320013082349055928370704331338105989249-Effusion-1-XRV-DenseNet121-mimic_ch\n",
      "[0.06324643] -590 30\n",
      "0\n",
      "10\n",
      "20\n",
      "module load ffmpeg;ffmpeg -loglevel quiet -stats -y -i /lscratch/joecohen/SDS-2342-ASDAA/image-%d-a.png -c:v libx264 -profile:v baseline -level 3.0 -pix_fmt yuv420p 'images3/PC_Dataset-36121320013082349055928370704331338105989249-Effusion-1-XRV-DenseNet121-mimic_ch-latentshift.mp4'\n",
      "[0.06324643] -590 30\n",
      "images3/PC_Dataset-36121320013082349055928370704331338105989249-Effusion-1-XRV-DenseNet121-mimic_ch-latentshift-max.png\n",
      "images3/PC_Dataset-36121320013082349055928370704331338105989249-Effusion-1-jfhealthcare-DenseNet121\n",
      "[0.1514512] -290 30\n",
      "0\n",
      "10\n",
      "20\n",
      "module load ffmpeg;ffmpeg -loglevel quiet -stats -y -i /lscratch/joecohen/SDS-2342-ASDAA/image-%d-a.png -c:v libx264 -profile:v baseline -level 3.0 -pix_fmt yuv420p 'images3/PC_Dataset-36121320013082349055928370704331338105989249-Effusion-1-jfhealthcare-DenseNet121-latentshift.mp4'\n",
      "[0.1514512] -290 30\n",
      "images3/PC_Dataset-36121320013082349055928370704331338105989249-Effusion-1-jfhealthcare-DenseNet121-latentshift-max.png\n",
      "Atelectasis\n",
      "already computed\n",
      "images3/NIH_Dataset-1282439606-Atelectasis-1.png\n",
      "images3/NIH_Dataset-1282439606-Atelectasis-1-XRV-DenseNet121-all\n",
      "[0.5149247] -630 100\n",
      "0\n",
      "10\n",
      "20\n",
      "module load ffmpeg;ffmpeg -loglevel quiet -stats -y -i /lscratch/joecohen/SDS-2342-ASDAA/image-%d-a.png -c:v libx264 -profile:v baseline -level 3.0 -pix_fmt yuv420p 'images3/NIH_Dataset-1282439606-Atelectasis-1-XRV-DenseNet121-all-latentshift.mp4'\n",
      "[0.5149247] -630 100\n",
      "images3/NIH_Dataset-1282439606-Atelectasis-1-XRV-DenseNet121-all-latentshift-max.png\n",
      "images3/NIH_Dataset-1282439606-Atelectasis-1-XRV-DenseNet121-mimic_ch\n",
      "[0.58377326] -180 20\n",
      "0\n",
      "10\n",
      "20\n",
      "module load ffmpeg;ffmpeg -loglevel quiet -stats -y -i /lscratch/joecohen/SDS-2342-ASDAA/image-%d-a.png -c:v libx264 -profile:v baseline -level 3.0 -pix_fmt yuv420p 'images3/NIH_Dataset-1282439606-Atelectasis-1-XRV-DenseNet121-mimic_ch-latentshift.mp4'\n",
      "[0.58377326] -180 20\n",
      "images3/NIH_Dataset-1282439606-Atelectasis-1-XRV-DenseNet121-mimic_ch-latentshift-max.png\n",
      "images3/NIH_Dataset-1282439606-Atelectasis-1-jfhealthcare-DenseNet121\n",
      "[0.44029012] -280 20\n",
      "0\n",
      "10\n",
      "20\n",
      "module load ffmpeg;ffmpeg -loglevel quiet -stats -y -i /lscratch/joecohen/SDS-2342-ASDAA/image-%d-a.png -c:v libx264 -profile:v baseline -level 3.0 -pix_fmt yuv420p 'images3/NIH_Dataset-1282439606-Atelectasis-1-jfhealthcare-DenseNet121-latentshift.mp4'\n",
      "[0.44029012] -280 20\n",
      "images3/NIH_Dataset-1282439606-Atelectasis-1-jfhealthcare-DenseNet121-latentshift-max.png\n",
      "Consolidation\n",
      "already computed\n",
      "images3/PC_Dataset-68669128681721738321741397205247540104929567-Consolidation-1.png\n",
      "images3/PC_Dataset-68669128681721738321741397205247540104929567-Consolidation-1-XRV-DenseNet121-all\n",
      "[0.53211117] -130 9\n",
      "0\n",
      "10\n",
      "20\n",
      "module load ffmpeg;ffmpeg -loglevel quiet -stats -y -i /lscratch/joecohen/SDS-2342-ASDAA/image-%d-a.png -c:v libx264 -profile:v baseline -level 3.0 -pix_fmt yuv420p 'images3/PC_Dataset-68669128681721738321741397205247540104929567-Consolidation-1-XRV-DenseNet121-all-latentshift.mp4'\n",
      "[0.53211117] -130 9\n",
      "images3/PC_Dataset-68669128681721738321741397205247540104929567-Consolidation-1-XRV-DenseNet121-all-latentshift-max.png\n",
      "images3/PC_Dataset-68669128681721738321741397205247540104929567-Consolidation-1-XRV-DenseNet121-mimic_ch\n",
      "[0.07176372] -220 6\n",
      "0\n",
      "10\n",
      "20\n",
      "module load ffmpeg;ffmpeg -loglevel quiet -stats -y -i /lscratch/joecohen/SDS-2342-ASDAA/image-%d-a.png -c:v libx264 -profile:v baseline -level 3.0 -pix_fmt yuv420p 'images3/PC_Dataset-68669128681721738321741397205247540104929567-Consolidation-1-XRV-DenseNet121-mimic_ch-latentshift.mp4'\n",
      "[0.07176372] -220 6\n",
      "images3/PC_Dataset-68669128681721738321741397205247540104929567-Consolidation-1-XRV-DenseNet121-mimic_ch-latentshift-max.png\n",
      "images3/PC_Dataset-68669128681721738321741397205247540104929567-Consolidation-1-jfhealthcare-DenseNet121\n",
      "[0.35839552] -60 2\n",
      "0\n",
      "10\n",
      "20\n",
      "module load ffmpeg;ffmpeg -loglevel quiet -stats -y -i /lscratch/joecohen/SDS-2342-ASDAA/image-%d-a.png -c:v libx264 -profile:v baseline -level 3.0 -pix_fmt yuv420p 'images3/PC_Dataset-68669128681721738321741397205247540104929567-Consolidation-1-jfhealthcare-DenseNet121-latentshift.mp4'\n",
      "[0.35839552] -60 2\n",
      "images3/PC_Dataset-68669128681721738321741397205247540104929567-Consolidation-1-jfhealthcare-DenseNet121-latentshift-max.png\n",
      "Mass\n",
      "already computed\n",
      "images3/PC_Dataset-8865137103320410885238934809914742203430307-Mass-1.png\n",
      "images3/PC_Dataset-8865137103320410885238934809914742203430307-Mass-1-XRV-DenseNet121-all\n",
      "[0.13512102] -30 1\n",
      "0\n",
      "10\n",
      "20\n",
      "module load ffmpeg;ffmpeg -loglevel quiet -stats -y -i /lscratch/joecohen/SDS-2342-ASDAA/image-%d-a.png -c:v libx264 -profile:v baseline -level 3.0 -pix_fmt yuv420p 'images3/PC_Dataset-8865137103320410885238934809914742203430307-Mass-1-XRV-DenseNet121-all-latentshift.mp4'\n",
      "[0.13512102] -30 1\n",
      "images3/PC_Dataset-8865137103320410885238934809914742203430307-Mass-1-XRV-DenseNet121-all-latentshift-max.png\n",
      "Pneumothorax\n",
      "already computed\n",
      "images3/NIH_Dataset-14573616568-Pneumothorax-1.png\n",
      "images3/NIH_Dataset-14573616568-Pneumothorax-1-XRV-DenseNet121-all\n",
      "[0.5044425] -1000 1000\n",
      "0\n",
      "10\n",
      "20\n",
      "module load ffmpeg;ffmpeg -loglevel quiet -stats -y -i /lscratch/joecohen/SDS-2342-ASDAA/image-%d-a.png -c:v libx264 -profile:v baseline -level 3.0 -pix_fmt yuv420p 'images3/NIH_Dataset-14573616568-Pneumothorax-1-XRV-DenseNet121-all-latentshift.mp4'\n",
      "[0.5044425] -1000 1000\n",
      "images3/NIH_Dataset-14573616568-Pneumothorax-1-XRV-DenseNet121-all-latentshift-max.png\n",
      "images3/NIH_Dataset-14573616568-Pneumothorax-1-XRV-DenseNet121-mimic_ch\n",
      "[0.50143313] -1000 920\n",
      "0\n",
      "10\n",
      "20\n",
      "module load ffmpeg;ffmpeg -loglevel quiet -stats -y -i /lscratch/joecohen/SDS-2342-ASDAA/image-%d-a.png -c:v libx264 -profile:v baseline -level 3.0 -pix_fmt yuv420p 'images3/NIH_Dataset-14573616568-Pneumothorax-1-XRV-DenseNet121-mimic_ch-latentshift.mp4'\n"
     ]
    },
    {
     "name": "stdout",
     "output_type": "stream",
     "text": [
      "[0.50143313] -1000 920\n",
      "images3/NIH_Dataset-14573616568-Pneumothorax-1-XRV-DenseNet121-mimic_ch-latentshift-max.png\n",
      "Infiltration\n",
      "already computed\n",
      "images3/NIH_Dataset-15591720779-Infiltration-1.png\n",
      "images3/NIH_Dataset-15591720779-Infiltration-1-XRV-DenseNet121-all\n",
      "[0.5184655] -750 220\n",
      "0\n",
      "10\n",
      "20\n",
      "module load ffmpeg;ffmpeg -loglevel quiet -stats -y -i /lscratch/joecohen/SDS-2342-ASDAA/image-%d-a.png -c:v libx264 -profile:v baseline -level 3.0 -pix_fmt yuv420p 'images3/NIH_Dataset-15591720779-Infiltration-1-XRV-DenseNet121-all-latentshift.mp4'\n",
      "[0.5184655] -750 220\n",
      "images3/NIH_Dataset-15591720779-Infiltration-1-XRV-DenseNet121-all-latentshift-max.png\n",
      "Edema\n",
      "already computed\n",
      "images3/NIH_Dataset-13053510535-Edema-1.png\n",
      "images3/NIH_Dataset-13053510535-Edema-1-XRV-DenseNet121-all\n",
      "[0.0097415] -1000 550\n",
      "0\n",
      "10\n",
      "20\n",
      "module load ffmpeg;ffmpeg -loglevel quiet -stats -y -i /lscratch/joecohen/SDS-2342-ASDAA/image-%d-a.png -c:v libx264 -profile:v baseline -level 3.0 -pix_fmt yuv420p 'images3/NIH_Dataset-13053510535-Edema-1-XRV-DenseNet121-all-latentshift.mp4'\n",
      "[0.0097415] -1000 550\n",
      "images3/NIH_Dataset-13053510535-Edema-1-XRV-DenseNet121-all-latentshift-max.png\n",
      "images3/NIH_Dataset-13053510535-Edema-1-XRV-DenseNet121-mimic_ch\n",
      "[0.00576427] -1000 320\n",
      "0\n",
      "10\n",
      "20\n",
      "module load ffmpeg;ffmpeg -loglevel quiet -stats -y -i /lscratch/joecohen/SDS-2342-ASDAA/image-%d-a.png -c:v libx264 -profile:v baseline -level 3.0 -pix_fmt yuv420p 'images3/NIH_Dataset-13053510535-Edema-1-XRV-DenseNet121-mimic_ch-latentshift.mp4'\n",
      "[0.00576427] -1000 320\n",
      "images3/NIH_Dataset-13053510535-Edema-1-XRV-DenseNet121-mimic_ch-latentshift-max.png\n",
      "images3/NIH_Dataset-13053510535-Edema-1-jfhealthcare-DenseNet121\n",
      "[0.2300276] -430 50\n",
      "0\n",
      "10\n",
      "20\n",
      "module load ffmpeg;ffmpeg -loglevel quiet -stats -y -i /lscratch/joecohen/SDS-2342-ASDAA/image-%d-a.png -c:v libx264 -profile:v baseline -level 3.0 -pix_fmt yuv420p 'images3/NIH_Dataset-13053510535-Edema-1-jfhealthcare-DenseNet121-latentshift.mp4'\n",
      "[0.2300276] -430 50\n",
      "images3/NIH_Dataset-13053510535-Edema-1-jfhealthcare-DenseNet121-latentshift-max.png\n",
      "Emphysema\n",
      "already computed\n",
      "images3/PC_Dataset-39046269760008870352218360670210871191164426-Emphysema-1.png\n",
      "images3/PC_Dataset-39046269760008870352218360670210871191164426-Emphysema-1-XRV-DenseNet121-all\n",
      "[0.5127366] -1000 400\n",
      "0\n",
      "10\n",
      "20\n",
      "module load ffmpeg;ffmpeg -loglevel quiet -stats -y -i /lscratch/joecohen/SDS-2342-ASDAA/image-%d-a.png -c:v libx264 -profile:v baseline -level 3.0 -pix_fmt yuv420p 'images3/PC_Dataset-39046269760008870352218360670210871191164426-Emphysema-1-XRV-DenseNet121-all-latentshift.mp4'\n",
      "[0.5127366] -1000 400\n",
      "images3/PC_Dataset-39046269760008870352218360670210871191164426-Emphysema-1-XRV-DenseNet121-all-latentshift-max.png\n",
      "Fibrosis\n",
      "already computed\n",
      "images3/NIH_Dataset-15124718782-Fibrosis-1.png\n",
      "images3/NIH_Dataset-15124718782-Fibrosis-1-XRV-DenseNet121-all\n",
      "[0.5163238] -980 850\n",
      "0\n",
      "10\n",
      "20\n",
      "module load ffmpeg;ffmpeg -loglevel quiet -stats -y -i /lscratch/joecohen/SDS-2342-ASDAA/image-%d-a.png -c:v libx264 -profile:v baseline -level 3.0 -pix_fmt yuv420p 'images3/NIH_Dataset-15124718782-Fibrosis-1-XRV-DenseNet121-all-latentshift.mp4'\n",
      "[0.5163238] -980 850\n",
      "images3/NIH_Dataset-15124718782-Fibrosis-1-XRV-DenseNet121-all-latentshift-max.png\n",
      "Pneumonia\n",
      "already computed\n",
      "images3/PC_Dataset-17137233352743681381431576686868481347706419-Pneumonia-1.png\n",
      "images3/PC_Dataset-17137233352743681381431576686868481347706419-Pneumonia-1-XRV-DenseNet121-all\n",
      "[0.09162968] -140 3\n",
      "0\n",
      "10\n",
      "20\n",
      "module load ffmpeg;ffmpeg -loglevel quiet -stats -y -i /lscratch/joecohen/SDS-2342-ASDAA/image-%d-a.png -c:v libx264 -profile:v baseline -level 3.0 -pix_fmt yuv420p 'images3/PC_Dataset-17137233352743681381431576686868481347706419-Pneumonia-1-XRV-DenseNet121-all-latentshift.mp4'\n",
      "[0.09162968] -140 3\n",
      "images3/PC_Dataset-17137233352743681381431576686868481347706419-Pneumonia-1-XRV-DenseNet121-all-latentshift-max.png\n",
      "images3/PC_Dataset-17137233352743681381431576686868481347706419-Pneumonia-1-XRV-DenseNet121-mimic_ch\n",
      "[0.0444616] -270 20\n",
      "0\n",
      "10\n",
      "20\n",
      "module load ffmpeg;ffmpeg -loglevel quiet -stats -y -i /lscratch/joecohen/SDS-2342-ASDAA/image-%d-a.png -c:v libx264 -profile:v baseline -level 3.0 -pix_fmt yuv420p 'images3/PC_Dataset-17137233352743681381431576686868481347706419-Pneumonia-1-XRV-DenseNet121-mimic_ch-latentshift.mp4'\n",
      "[0.0444616] -270 20\n",
      "images3/PC_Dataset-17137233352743681381431576686868481347706419-Pneumonia-1-XRV-DenseNet121-mimic_ch-latentshift-max.png\n",
      "Pleural_Thickening\n",
      "already computed\n",
      "images3/PC_Dataset-20735249085710567463382428147548903786397603-Pleural_Thickening-1.png\n",
      "images3/PC_Dataset-20735249085710567463382428147548903786397603-Pleural_Thickening-1-XRV-DenseNet121-all\n",
      "[0.53714514] -420 130\n",
      "0\n",
      "10\n",
      "20\n",
      "module load ffmpeg;ffmpeg -loglevel quiet -stats -y -i /lscratch/joecohen/SDS-2342-ASDAA/image-%d-a.png -c:v libx264 -profile:v baseline -level 3.0 -pix_fmt yuv420p 'images3/PC_Dataset-20735249085710567463382428147548903786397603-Pleural_Thickening-1-XRV-DenseNet121-all-latentshift.mp4'\n",
      "[0.53714514] -420 130\n",
      "images3/PC_Dataset-20735249085710567463382428147548903786397603-Pleural_Thickening-1-XRV-DenseNet121-all-latentshift-max.png\n",
      "Hernia\n",
      "already computed\n",
      "images3/NIH_Dataset-1269898994-Hernia-1.png\n",
      "images3/NIH_Dataset-1269898994-Hernia-1-XRV-DenseNet121-all\n",
      "[0.03736895] -120 30\n",
      "0\n",
      "10\n",
      "20\n",
      "module load ffmpeg;ffmpeg -loglevel quiet -stats -y -i /lscratch/joecohen/SDS-2342-ASDAA/image-%d-a.png -c:v libx264 -profile:v baseline -level 3.0 -pix_fmt yuv420p 'images3/NIH_Dataset-1269898994-Hernia-1-XRV-DenseNet121-all-latentshift.mp4'\n",
      "[0.03736895] -120 30\n",
      "images3/NIH_Dataset-1269898994-Hernia-1-XRV-DenseNet121-all-latentshift-max.png\n",
      "Lung Opacity\n",
      "already computed\n",
      "images3/RSNA_Pneumonia_Dataset-102564c7024796-39ed-4eda-906d-65a1fb5d5c52-Lung Opacity-1.png\n",
      "images3/RSNA_Pneumonia_Dataset-102564c7024796-39ed-4eda-906d-65a1fb5d5c52-Lung Opacity-1-XRV-DenseNet121-all\n",
      "[0.6905568] -240 20\n",
      "0\n",
      "10\n",
      "20\n",
      "module load ffmpeg;ffmpeg -loglevel quiet -stats -y -i /lscratch/joecohen/SDS-2342-ASDAA/image-%d-a.png -c:v libx264 -profile:v baseline -level 3.0 -pix_fmt yuv420p 'images3/RSNA_Pneumonia_Dataset-102564c7024796-39ed-4eda-906d-65a1fb5d5c52-Lung Opacity-1-XRV-DenseNet121-all-latentshift.mp4'\n",
      "[0.6905568] -240 20\n",
      "images3/RSNA_Pneumonia_Dataset-102564c7024796-39ed-4eda-906d-65a1fb5d5c52-Lung Opacity-1-XRV-DenseNet121-all-latentshift-max.png\n",
      "images3/RSNA_Pneumonia_Dataset-102564c7024796-39ed-4eda-906d-65a1fb5d5c52-Lung Opacity-1-XRV-DenseNet121-mimic_ch\n",
      "[0.52878463] -90 8\n",
      "0\n",
      "10\n",
      "20\n",
      "module load ffmpeg;ffmpeg -loglevel quiet -stats -y -i /lscratch/joecohen/SDS-2342-ASDAA/image-%d-a.png -c:v libx264 -profile:v baseline -level 3.0 -pix_fmt yuv420p 'images3/RSNA_Pneumonia_Dataset-102564c7024796-39ed-4eda-906d-65a1fb5d5c52-Lung Opacity-1-XRV-DenseNet121-mimic_ch-latentshift.mp4'\n",
      "[0.52878463] -90 8\n",
      "images3/RSNA_Pneumonia_Dataset-102564c7024796-39ed-4eda-906d-65a1fb5d5c52-Lung Opacity-1-XRV-DenseNet121-mimic_ch-latentshift-max.png\n"
     ]
    }
   ],
   "source": [
    "label = 1\n",
    "\n",
    "for target in for_eval:\n",
    "    print(target)\n",
    "\n",
    "    idx = to_plot[target]\n",
    "\n",
    "    metadata = {}\n",
    "    sample = dmerge[idx]\n",
    "\n",
    "    csv = dmerge.csv.iloc[idx]\n",
    "    image = torch.from_numpy(sample[\"img\"]).unsqueeze(0).cuda()\n",
    "\n",
    "    try:\n",
    "        uid = str(idx) + csv.patientid\n",
    "    except:\n",
    "        uid = str(idx)\n",
    "    \n",
    "    dataset_name = dmerge.datasets[sample[\"source\"]].__class__.__name__\n",
    "    fid = dataset_name + \"-\" + uid + \"-\" + target + \"-\" + str(label)\n",
    "    basefname = folder + fid\n",
    "    \n",
    "    json_name = basefname + \".json\"\n",
    "    if (os.path.exists(json_name)):\n",
    "        print(\"already computed\")\n",
    "        #continue\n",
    "\n",
    "    metadata = {}\n",
    "    metadata[\"id\"] = fid\n",
    "    metadata[\"idx\"] = str(idx)\n",
    "    metadata[\"dataset\"] = dataset_name\n",
    "    metadata[\"source\"] = json.loads(csv.to_json())\n",
    "    metadata[\"target\"] = target\n",
    "    metadata[\"label\"] = label\n",
    "    metadata[\"model_used\"] = str(model)\n",
    "    metadata[\"attribs\"] = {}\n",
    "    \n",
    "    #######\n",
    "    px = 1/plt.rcParams['figure.dpi']\n",
    "    full_frame(image[0][0].shape[0]*px,image[0][0].shape[1]*px)\n",
    "\n",
    "    plt.imshow(image[0][0].cpu().numpy(), interpolation='none', cmap=\"gray\")\n",
    "\n",
    "    rfname = basefname + '.png'\n",
    "    print(rfname)\n",
    "    metadata[\"attribs\"][\"image\"] = rfname\n",
    "    plt.savefig(rfname, bbox_inches='tight', pad_inches=0, transparent=False)\n",
    "    plt.close()\n",
    "\n",
    "    #######\n",
    "    \n",
    "    for model in models:\n",
    "\n",
    "        if not target in model.pathologies:\n",
    "            continue\n",
    "            \n",
    "        thisbasefname = basefname + \"-\" + str(model)\n",
    "        \n",
    "        metadata[\"attribs\"][\"latentshift-\" + str(model)] = thisbasefname + \"-latentshift.mp4\"\n",
    "        \n",
    "#         if (os.path.exists(thisbasefname + \"-latentshift.mp4\")):\n",
    "#             print(\"already computed\")\n",
    "#             continue\n",
    "\n",
    "        print(thisbasefname)\n",
    "\n",
    "        fname = attribution.generate_video(image, model, target, ae, temp_path, \n",
    "                                   target_filename=thisbasefname + \"-latentshift\", \n",
    "                                   border=False, show=False)\n",
    "        \n",
    "        ######\n",
    "        px = 1/plt.rcParams['figure.dpi']\n",
    "        full_frame(image[0][0].shape[0]*px,image[0][0].shape[1]*px)\n",
    "        \n",
    "        dimage = attribution.compute_attribution(image, \"latentshift-max\", model, target, ae=ae, threshold=True)\n",
    "        plt.imshow(image.cpu().numpy()[0][0], interpolation='none', cmap=\"gray\")\n",
    "        dimage[dimage==0] = np.nan\n",
    "        plt.imshow(dimage, interpolation='none', alpha=0.8, cmap=\"Reds\");\n",
    "        \n",
    "        rfname = thisbasefname + \"-latentshift-max\" + '.png'\n",
    "        print(rfname)\n",
    "        metadata[\"attribs\"][\"latentshift-max-\" + str(model)] = rfname\n",
    "        plt.savefig(rfname, bbox_inches='tight', pad_inches=0, transparent=False)\n",
    "        plt.close()\n",
    "        ######\n",
    "        \n",
    "        \n",
    "        \n",
    "\n",
    "    with open(json_name, 'w') as outfile:\n",
    "        json.dump(metadata, outfile)\n"
   ]
  },
  {
   "cell_type": "code",
   "execution_count": null,
   "metadata": {},
   "outputs": [],
   "source": []
  },
  {
   "cell_type": "code",
   "execution_count": null,
   "metadata": {},
   "outputs": [],
   "source": []
  },
  {
   "cell_type": "code",
   "execution_count": null,
   "metadata": {},
   "outputs": [],
   "source": []
  },
  {
   "cell_type": "code",
   "execution_count": null,
   "metadata": {},
   "outputs": [],
   "source": []
  },
  {
   "cell_type": "code",
   "execution_count": null,
   "metadata": {},
   "outputs": [],
   "source": []
  },
  {
   "cell_type": "code",
   "execution_count": null,
   "metadata": {},
   "outputs": [],
   "source": []
  },
  {
   "cell_type": "code",
   "execution_count": 33,
   "metadata": {},
   "outputs": [
    {
     "name": "stdout",
     "output_type": "stream",
     "text": [
      "Cardiomegaly jfhealthcare-DenseNet121\n",
      "images3/PC_Dataset-10201199918783419519779794936126082408474409-Cardiomegaly-1.json\n",
      "Effusion jfhealthcare-DenseNet121\n",
      "images3/PC_Dataset-36121320013082349055928370704331338105989249-Effusion-1.json\n",
      "Atelectasis jfhealthcare-DenseNet121\n",
      "images3/NIH_Dataset-1282439606-Atelectasis-1.json\n",
      "Consolidation jfhealthcare-DenseNet121\n",
      "images3/PC_Dataset-68669128681721738321741397205247540104929567-Consolidation-1.json\n",
      "Mass jfhealthcare-DenseNet121\n",
      "images3/PC_Dataset-8865137103320410885238934809914742203430307-Mass-1.json\n",
      "Pneumothorax jfhealthcare-DenseNet121\n",
      "images3/NIH_Dataset-14573616568-Pneumothorax-1.json\n",
      "Infiltration jfhealthcare-DenseNet121\n",
      "images3/NIH_Dataset-15591720779-Infiltration-1.json\n",
      "Edema jfhealthcare-DenseNet121\n",
      "images3/NIH_Dataset-13053510535-Edema-1.json\n",
      "Emphysema jfhealthcare-DenseNet121\n",
      "images3/PC_Dataset-39046269760008870352218360670210871191164426-Emphysema-1.json\n",
      "Fibrosis jfhealthcare-DenseNet121\n",
      "images3/NIH_Dataset-15124718782-Fibrosis-1.json\n",
      "Pneumonia jfhealthcare-DenseNet121\n",
      "images3/PC_Dataset-17137233352743681381431576686868481347706419-Pneumonia-1.json\n",
      "Pleural_Thickening jfhealthcare-DenseNet121\n",
      "images3/PC_Dataset-20735249085710567463382428147548903786397603-Pleural_Thickening-1.json\n",
      "Hernia jfhealthcare-DenseNet121\n",
      "images3/NIH_Dataset-1269898994-Hernia-1.json\n",
      "Lung Opacity jfhealthcare-DenseNet121\n",
      "images3/RSNA_Pneumonia_Dataset-102564c7024796-39ed-4eda-906d-65a1fb5d5c52-Lung Opacity-1.json\n"
     ]
    }
   ],
   "source": [
    "page = \"\"\n",
    "page += \"\"\"\n",
    "<div style=\"width:100%;height:50px\">\n",
    "<img style=\"float:right;height:50px\" src=\"assets/aimi-logo.png\" />\n",
    "<img style=\"float:right;height:50px\" src=\"assets/stanford-logo2.png\" />\n",
    "</div>\n",
    "<div class=\"main\">\n",
    "\"\"\"\n",
    "\n",
    "page+= \"<table><tr>\\n\"\n",
    "page+= \"<td>Image</td>\\n\"\n",
    "for model in models:\n",
    "    page += \"<td>{}</td>\\n\".format(str(model))\n",
    "page+= \"</tr></table>\\n\"\n",
    "\n",
    "for target in for_eval:\n",
    "    \n",
    "    print(target,str(model))\n",
    "    j = glob.glob(\"images3/*{}*.json\".format(target))[0]\n",
    "    metadata = json.load(open(j))\n",
    "    print(j)\n",
    "    \n",
    "    page += \"<h2>Prediction of {}</h2>\\n\".format(target)\n",
    "    page+= \"<table><tr>\\n\"\n",
    "    page += \"<td><img src='{}'/></td>\\n\".format(metadata[\"attribs\"][\"image\"])\n",
    "        \n",
    "    for model in models:\n",
    "        if target in model.pathologies:\n",
    "            page += \"<td><img src='{}'/></td>\\n\".format(metadata[\"attribs\"][\"latentshift-max-\" + str(model)])\n",
    "            page += \"<td><video autoplay loop muted><source id='latentshift' src='{}' type='video/mp4'>Your browser does not support the video tag.</video></td>\\n\".format(metadata[\"attribs\"][\"latentshift-\" + str(model)])\n",
    "        else:\n",
    "            page += \"<td>-</td>\\n\"\n",
    "            page += \"<td>-</td>\\n\"\n",
    "    page+= \"</tr></table>\\n\"\n",
    "page+= \"</div>\\n\"\n",
    "with open(\"index3.htm\", 'w') as f:\n",
    "    f.write(page)"
   ]
  },
  {
   "cell_type": "code",
   "execution_count": null,
   "metadata": {},
   "outputs": [],
   "source": []
  },
  {
   "cell_type": "code",
   "execution_count": null,
   "metadata": {},
   "outputs": [],
   "source": []
  },
  {
   "cell_type": "code",
   "execution_count": null,
   "metadata": {},
   "outputs": [],
   "source": []
  },
  {
   "cell_type": "code",
   "execution_count": null,
   "metadata": {},
   "outputs": [],
   "source": []
  },
  {
   "cell_type": "code",
   "execution_count": null,
   "metadata": {},
   "outputs": [],
   "source": []
  },
  {
   "cell_type": "code",
   "execution_count": null,
   "metadata": {},
   "outputs": [],
   "source": []
  },
  {
   "cell_type": "code",
   "execution_count": null,
   "metadata": {},
   "outputs": [],
   "source": []
  },
  {
   "cell_type": "code",
   "execution_count": null,
   "metadata": {},
   "outputs": [],
   "source": []
  },
  {
   "cell_type": "code",
   "execution_count": null,
   "metadata": {},
   "outputs": [],
   "source": []
  },
  {
   "cell_type": "code",
   "execution_count": null,
   "metadata": {},
   "outputs": [],
   "source": []
  },
  {
   "cell_type": "code",
   "execution_count": null,
   "metadata": {},
   "outputs": [],
   "source": []
  },
  {
   "cell_type": "code",
   "execution_count": null,
   "metadata": {},
   "outputs": [],
   "source": []
  },
  {
   "cell_type": "code",
   "execution_count": null,
   "metadata": {
    "collapsed": true
   },
   "outputs": [],
   "source": []
  },
  {
   "cell_type": "code",
   "execution_count": null,
   "metadata": {
    "collapsed": true
   },
   "outputs": [],
   "source": []
  }
 ],
 "metadata": {
  "kernelspec": {
   "display_name": "Python 3",
   "language": "python",
   "name": "python3"
  },
  "language_info": {
   "codemirror_mode": {
    "name": "ipython",
    "version": 3
   },
   "file_extension": ".py",
   "mimetype": "text/x-python",
   "name": "python",
   "nbconvert_exporter": "python",
   "pygments_lexer": "ipython3",
   "version": "3.6.1"
  }
 },
 "nbformat": 4,
 "nbformat_minor": 2
}
