{
 "cells": [
  {
   "cell_type": "code",
   "execution_count": 1,
   "metadata": {},
   "outputs": [],
   "source": [
    "%load_ext autoreload\n",
    "%autoreload 2\n",
    "%matplotlib inline"
   ]
  },
  {
   "cell_type": "code",
   "execution_count": 2,
   "metadata": {},
   "outputs": [],
   "source": [
    "import torchvision, torch"
   ]
  },
  {
   "cell_type": "code",
   "execution_count": 3,
   "metadata": {},
   "outputs": [],
   "source": [
    "import sys, os\n",
    "sys.path.insert(0,\"../torchxrayvision/\")\n",
    "import torchxrayvision as xrv\n",
    "import matplotlib.pyplot as plt\n",
    "import torch\n",
    "from torch.nn import functional as F\n",
    "import glob\n",
    "import numpy as np\n",
    "import skimage, skimage.filters\n",
    "%matplotlib inline\n",
    "import captum, captum.attr\n",
    "import torch, torch.nn\n",
    "import pickle\n",
    "import attribution\n",
    "import pandas as pd\n",
    "import datasets\n",
    "import shutil\n",
    "import json\n",
    "import glob"
   ]
  },
  {
   "cell_type": "code",
   "execution_count": 79,
   "metadata": {},
   "outputs": [],
   "source": [
    "def full_frame(width=None, height=None):\n",
    "    import matplotlib as mpl\n",
    "    mpl.rcParams['savefig.pad_inches'] = 0\n",
    "    figsize = None if width is None else (width, height)\n",
    "    fig = plt.figure(figsize=figsize)\n",
    "    ax = plt.axes([0,0,1,1], frameon=False)\n",
    "    ax.get_xaxis().set_visible(False)\n",
    "    ax.get_yaxis().set_visible(False)\n",
    "    plt.autoscale(tight=True)"
   ]
  },
  {
   "cell_type": "code",
   "execution_count": 4,
   "metadata": {},
   "outputs": [
    {
     "name": "stdout",
     "output_type": "stream",
     "text": [
      "PC_Dataset num_samples=91658 views=['PA'] data_aug=None\n"
     ]
    }
   ],
   "source": [
    "dmerge = datasets.get_data(\"pc\")"
   ]
  },
  {
   "cell_type": "code",
   "execution_count": null,
   "metadata": {},
   "outputs": [],
   "source": []
  },
  {
   "cell_type": "code",
   "execution_count": 9,
   "metadata": {},
   "outputs": [
    {
     "name": "stdout",
     "output_type": "stream",
     "text": [
      "{'Air Trapping': {0.0: 88285, 1.0: 3373},\n",
      " 'Aortic Atheromatosis': {0.0: 90074, 1.0: 1584},\n",
      " 'Aortic Elongation': {0.0: 84053, 1.0: 7605},\n",
      " 'Atelectasis': {0.0: 87677, 1.0: 3981},\n",
      " 'Bronchiectasis': {0.0: 90163, 1.0: 1495},\n",
      " 'Cardiomegaly': {0.0: 83238, 1.0: 8420},\n",
      " 'Consolidation': {0.0: 90661, 1.0: 997},\n",
      " 'Costophrenic Angle Blunting': {0.0: 88178, 1.0: 3480},\n",
      " 'Edema': {0.0: 91461, 1.0: 197},\n",
      " 'Effusion': {0.0: 88316, 1.0: 3342},\n",
      " 'Emphysema': {0.0: 90745, 1.0: 913},\n",
      " 'Fibrosis': {0.0: 90985, 1.0: 673},\n",
      " 'Flattened Diaphragm': {0.0: 91124, 1.0: 534},\n",
      " 'Fracture': {0.0: 89051, 1.0: 2607},\n",
      " 'Granuloma': {0.0: 89217, 1.0: 2441},\n",
      " 'Hemidiaphragm Elevation': {0.0: 90294, 1.0: 1364},\n",
      " 'Hernia': {0.0: 90177, 1.0: 1481},\n",
      " 'Hilar Enlargement': {0.0: 87570, 1.0: 4088},\n",
      " 'Infiltration': {0.0: 83915, 1.0: 7743},\n",
      " 'Mass': {0.0: 90852, 1.0: 806},\n",
      " 'Nodule': {0.0: 88001, 1.0: 3657},\n",
      " 'Pleural_Thickening': {0.0: 88463, 1.0: 3195},\n",
      " 'Pneumonia': {0.0: 88255, 1.0: 3403},\n",
      " 'Pneumothorax': {0.0: 91435, 1.0: 223},\n",
      " 'Scoliosis': {0.0: 86289, 1.0: 5369},\n",
      " 'Support Devices': {0.0: 89978, 1.0: 1680},\n",
      " 'Tuberculosis': {0.0: 90927, 1.0: 731}}\n"
     ]
    },
    {
     "data": {
      "text/plain": [
       "PC_Dataset num_samples=91658 views=['PA'] data_aug=None"
      ]
     },
     "execution_count": 9,
     "metadata": {},
     "output_type": "execute_result"
    }
   ],
   "source": [
    "dmerge"
   ]
  },
  {
   "cell_type": "code",
   "execution_count": null,
   "metadata": {},
   "outputs": [],
   "source": []
  },
  {
   "cell_type": "code",
   "execution_count": null,
   "metadata": {},
   "outputs": [],
   "source": []
  },
  {
   "cell_type": "code",
   "execution_count": 5,
   "metadata": {},
   "outputs": [],
   "source": [
    "ae = xrv.autoencoders.ResNetAE(weights=\"101-elastic\").cuda()"
   ]
  },
  {
   "cell_type": "code",
   "execution_count": 6,
   "metadata": {},
   "outputs": [],
   "source": [
    "models = [xrv.models.DenseNet(weights=\"all\").cuda(),\n",
    "          xrv.models.DenseNet(weights=\"mimic_ch\").cuda(),\n",
    "          xrv.baseline_models.jfhealthcare.DenseNet().cuda()]"
   ]
  },
  {
   "cell_type": "code",
   "execution_count": 7,
   "metadata": {},
   "outputs": [
    {
     "name": "stdout",
     "output_type": "stream",
     "text": [
      "['Atelectasis', 'Consolidation', 'Infiltration', 'Pneumothorax', 'Edema', 'Emphysema', 'Fibrosis', 'Effusion', 'Pneumonia', 'Pleural_Thickening', 'Cardiomegaly', 'Nodule', 'Mass', 'Hernia', 'Lung Lesion', 'Fracture', 'Lung Opacity', 'Enlarged Cardiomediastinum']\n",
      "XRV-DenseNet121-all\n"
     ]
    }
   ],
   "source": [
    "model = models[0]\n",
    "print(model.pathologies)\n",
    "print(model)"
   ]
  },
  {
   "cell_type": "code",
   "execution_count": null,
   "metadata": {},
   "outputs": [],
   "source": []
  },
  {
   "cell_type": "code",
   "execution_count": 131,
   "metadata": {},
   "outputs": [],
   "source": []
  },
  {
   "cell_type": "code",
   "execution_count": null,
   "metadata": {},
   "outputs": [],
   "source": []
  },
  {
   "cell_type": "code",
   "execution_count": null,
   "metadata": {},
   "outputs": [],
   "source": []
  },
  {
   "cell_type": "code",
   "execution_count": 9,
   "metadata": {},
   "outputs": [
    {
     "data": {
      "text/plain": [
       "['Atelectasis',\n",
       " 'Consolidation',\n",
       " 'Infiltration',\n",
       " 'Pneumothorax',\n",
       " 'Edema',\n",
       " 'Emphysema',\n",
       " 'Fibrosis',\n",
       " 'Effusion',\n",
       " 'Pneumonia',\n",
       " 'Pleural_Thickening',\n",
       " 'Cardiomegaly',\n",
       " 'Nodule',\n",
       " 'Mass',\n",
       " 'Hernia',\n",
       " 'Lung Lesion',\n",
       " 'Fracture',\n",
       " 'Lung Opacity',\n",
       " 'Enlarged Cardiomediastinum']"
      ]
     },
     "execution_count": 9,
     "metadata": {},
     "output_type": "execute_result"
    }
   ],
   "source": [
    "model.pathologies"
   ]
  },
  {
   "cell_type": "code",
   "execution_count": null,
   "metadata": {},
   "outputs": [],
   "source": []
  },
  {
   "cell_type": "code",
   "execution_count": 129,
   "metadata": {},
   "outputs": [
    {
     "data": {
      "text/plain": [
       "['Cardiomegaly', 'Atelectasis', 'Effusion', 'Mass']"
      ]
     },
     "execution_count": 129,
     "metadata": {},
     "output_type": "execute_result"
    }
   ],
   "source": [
    "for_eval"
   ]
  },
  {
   "cell_type": "code",
   "execution_count": 10,
   "metadata": {},
   "outputs": [],
   "source": [
    "# target = \"Effusion\"\n",
    "# label = 1\n",
    "# dwhere = np.where((dmerge.labels[:,dmerge.pathologies.index(target)]  == label))[0]\n",
    "# dwhere[:10]"
   ]
  },
  {
   "cell_type": "code",
   "execution_count": 112,
   "metadata": {},
   "outputs": [],
   "source": [
    "methods = [\"image\", \"grad\", \"guided\", \"integrated\", \"latentshift-max\"]\n",
    "folder = \"images/\"\n",
    "temp_path = \"/lscratch/joecohen/SDS-2342-ASDAA\""
   ]
  },
  {
   "cell_type": "code",
   "execution_count": null,
   "metadata": {},
   "outputs": [],
   "source": []
  },
  {
   "cell_type": "code",
   "execution_count": 169,
   "metadata": {},
   "outputs": [],
   "source": [
    "for_eval = [\n",
    "#             \"Cardiomegaly\", \n",
    "             \"Atelectasis\", \n",
    "#             \"Effusion\",\n",
    "#             \"Mass\",\n",
    "#            \"Lung Opacity\",\n",
    "#            \"Pneumothorax\"\n",
    "            ]\n",
    "pthresh = 0.6"
   ]
  },
  {
   "cell_type": "code",
   "execution_count": 166,
   "metadata": {},
   "outputs": [
    {
     "name": "stdout",
     "output_type": "stream",
     "text": [
      "NIH_Dataset num_samples=67310 views=['PA'] data_aug=None\n",
      "NIH_Dataset num_samples=67310 views=['PA'] data_aug=None\n"
     ]
    }
   ],
   "source": [
    "# dmerge = datasets.get_data(\"siim\")\n",
    "# dmerge_large = datasets.get_data(\"siim\", size=600)\n",
    "\n",
    "dmerge = datasets.get_data(\"nih\")\n",
    "dmerge_large = datasets.get_data(\"nilarge\", size=600)\n",
    "\n",
    "# dmerge = datasets.get_data(\"rsna\")\n",
    "# dmerge_large = datasets.get_data(\"rsna\", size=600)"
   ]
  },
  {
   "cell_type": "code",
   "execution_count": null,
   "metadata": {
    "scrolled": false
   },
   "outputs": [],
   "source": [
    "label = 1\n",
    "\n",
    "for target in for_eval:\n",
    "    print(target)\n",
    "    num_to_generate = 20\n",
    "\n",
    "    if not (target in dmerge.pathologies):\n",
    "        continue\n",
    "\n",
    "    dwhere = np.where((dmerge.labels[:,dmerge.pathologies.index(target)]  == label))[0]\n",
    "\n",
    "    if (dname == \"nih\") and (label == 1):\n",
    "        dwhere = np.where(dmerge.csv.has_masks & (dmerge.labels[:,dmerge.pathologies.index(target)]  == 1))[0]\n",
    "    print(\"num samples\", len(dwhere))\n",
    "    \n",
    "    np.random.seed(0)\n",
    "    for idx in np.random.choice(range(len(dwhere)), len(dwhere), replace=False):\n",
    "\n",
    "        if num_to_generate == 0:\n",
    "            break\n",
    "\n",
    "        metadata = {}\n",
    "        sample = dmerge[dwhere[idx]]\n",
    "\n",
    "        if (dname == \"nih\") and (label == 1):\n",
    "            # if path masks not available continue\n",
    "            if not (dmerge.pathologies.index(target) in sample[\"pathology_masks\"]):\n",
    "                #print(\"no mask found\")\n",
    "                continue\n",
    "\n",
    "        csv = dmerge.csv.iloc[dwhere[idx]]\n",
    "        image = torch.from_numpy(sample[\"img\"]).unsqueeze(0).cuda()\n",
    "\n",
    "        p = model(image)[:,model.pathologies.index(target)].detach().cpu()\n",
    "        #print(p)\n",
    "\n",
    "        if p > pthresh:    \n",
    "\n",
    "            num_to_generate-= 1\n",
    "            print(\"num_to_generate=\", num_to_generate)\n",
    "\n",
    "            #fname = csv.Path.str.replace(\"/\",\"_\").str.replace(\".jpg\",\"\").max()\n",
    "            try:\n",
    "                uid = dwhere[idx].astype(str) + csv.patientid\n",
    "            except:\n",
    "                uid = dwhere[idx].astype(str)\n",
    "                \n",
    "            fid = dmerge.__class__.__name__ + \"-\" + uid + \"-\" + target + \"-\" + str(label)\n",
    "            basefname = folder + fid\n",
    "\n",
    "            json_name = basefname + \".json\"\n",
    "            if (os.path.exists(json_name)):\n",
    "                print(\"already computed\")\n",
    "                continue\n",
    "\n",
    "            metadata = {}\n",
    "            metadata[\"id\"] = fid\n",
    "            metadata[\"idx\"] = dwhere[idx].astype(str)\n",
    "            metadata[\"dataset\"] = dmerge.__class__.__name__\n",
    "            metadata[\"source\"] = json.loads(csv.to_json())\n",
    "            metadata[\"target\"] = target\n",
    "            metadata[\"label\"] = label\n",
    "            metadata[\"model_used\"] = str(model)\n",
    "            metadata[\"pred\"] = float(p.cpu().numpy())\n",
    "            metadata[\"attribs\"] = {}\n",
    "\n",
    "            for i, method in enumerate(methods):\n",
    "                \n",
    "                px = 1/plt.rcParams['figure.dpi']\n",
    "                full_frame(image_full[0].shape[0]*px,image_full[0].shape[1]*px)\n",
    "                \n",
    "                if method == \"image\":\n",
    "                    image_full = dmerge_large[dwhere[idx]][\"img\"]\n",
    "                    plt.imshow(image_full[0], interpolation='none', cmap=\"gray\")\n",
    "                else:\n",
    "                    dimage = attribution.compute_attribution(image, method, model, target, ae=ae, threshold=True)\n",
    "                    plt.imshow(image_full[0], interpolation='none', cmap=\"gray\")\n",
    "                    dimage = skimage.transform.resize(dimage, image_full[0].shape, preserve_range=True, anti_aliasing=False, order=0)\n",
    "                    dimage[dimage==0] = np.nan\n",
    "                    plt.imshow(dimage, interpolation='none', alpha=0.8, cmap=\"Reds\");\n",
    "\n",
    "                rfname = basefname + \"-\" + method + '.png'\n",
    "                print(rfname)\n",
    "                metadata[\"attribs\"][method] = rfname\n",
    "                plt.savefig(rfname, bbox_inches='tight', pad_inches=0, transparent=False)\n",
    "                plt.close()\n",
    "\n",
    "            fname = attribution.generate_video(image, model, target, ae, temp_path, \n",
    "                                       target_filename=basefname + \"-latentshift\", \n",
    "                                       border=False, show=False)\n",
    "            metadata[\"attribs\"][\"latentshift\"] = basefname + \"-latentshift.mp4\"\n",
    "\n",
    "            with open(json_name, 'w') as outfile:\n",
    "                json.dump(metadata, outfile)"
   ]
  },
  {
   "cell_type": "code",
   "execution_count": null,
   "metadata": {},
   "outputs": [],
   "source": []
  },
  {
   "cell_type": "code",
   "execution_count": null,
   "metadata": {},
   "outputs": [],
   "source": []
  },
  {
   "cell_type": "code",
   "execution_count": null,
   "metadata": {},
   "outputs": [],
   "source": []
  },
  {
   "cell_type": "code",
   "execution_count": null,
   "metadata": {},
   "outputs": [],
   "source": []
  },
  {
   "cell_type": "code",
   "execution_count": null,
   "metadata": {},
   "outputs": [],
   "source": []
  },
  {
   "cell_type": "code",
   "execution_count": 123,
   "metadata": {},
   "outputs": [],
   "source": [
    "metadata = json.load(open(j))"
   ]
  },
  {
   "cell_type": "code",
   "execution_count": 128,
   "metadata": {},
   "outputs": [
    {
     "data": {
      "text/plain": [
       "{'id': 'images/CheXpert-v1.0-small_train_patient00009_study1_view1_frontal-Cardiomegaly-1',\n",
       " 'source': {'index': 16,\n",
       "  'Path': 'CheXpert-v1.0-small/train/patient00009/study1/view1_frontal.jpg',\n",
       "  'Sex': 'Male',\n",
       "  'Age': 76,\n",
       "  'Frontal/Lateral': 'Frontal',\n",
       "  'AP/PA': 'PA',\n",
       "  'No Finding': None,\n",
       "  'Enlarged Cardiomediastinum': None,\n",
       "  'Cardiomegaly': 1.0,\n",
       "  'Lung Opacity': None,\n",
       "  'Lung Lesion': None,\n",
       "  'Edema': 0.0,\n",
       "  'Consolidation': None,\n",
       "  'Pneumonia': None,\n",
       "  'Atelectasis': 1.0,\n",
       "  'Pneumothorax': None,\n",
       "  'Pleural Effusion': None,\n",
       "  'Pleural Other': None,\n",
       "  'Fracture': None,\n",
       "  'Support Devices': None,\n",
       "  'view': 'PA',\n",
       "  'patientid': '00009'},\n",
       " 'target': 'Cardiomegaly',\n",
       " 'label': 1,\n",
       " 'model_used': 'XRV-DenseNet121-all',\n",
       " 'pred': 0.8785651922225952,\n",
       " 'attribs': {'image': 'images/CheXpert-v1.0-small_train_patient00009_study1_view1_frontal-Cardiomegaly-1-image.png',\n",
       "  'grad': 'images/CheXpert-v1.0-small_train_patient00009_study1_view1_frontal-Cardiomegaly-1-grad.png',\n",
       "  'guided': 'images/CheXpert-v1.0-small_train_patient00009_study1_view1_frontal-Cardiomegaly-1-guided.png',\n",
       "  'integrated': 'images/CheXpert-v1.0-small_train_patient00009_study1_view1_frontal-Cardiomegaly-1-integrated.png',\n",
       "  'latentshift': 'images/CheXpert-v1.0-small_train_patient00009_study1_view1_frontal-Cardiomegaly-1-latentshift.mp4'}}"
      ]
     },
     "execution_count": 128,
     "metadata": {},
     "output_type": "execute_result"
    }
   ],
   "source": [
    "metadata"
   ]
  },
  {
   "cell_type": "code",
   "execution_count": null,
   "metadata": {},
   "outputs": [],
   "source": []
  },
  {
   "cell_type": "code",
   "execution_count": null,
   "metadata": {},
   "outputs": [],
   "source": []
  },
  {
   "cell_type": "code",
   "execution_count": null,
   "metadata": {},
   "outputs": [],
   "source": []
  },
  {
   "cell_type": "code",
   "execution_count": null,
   "metadata": {},
   "outputs": [],
   "source": []
  },
  {
   "cell_type": "code",
   "execution_count": null,
   "metadata": {},
   "outputs": [],
   "source": []
  },
  {
   "cell_type": "code",
   "execution_count": null,
   "metadata": {},
   "outputs": [],
   "source": []
  },
  {
   "cell_type": "code",
   "execution_count": null,
   "metadata": {
    "collapsed": true
   },
   "outputs": [],
   "source": []
  },
  {
   "cell_type": "code",
   "execution_count": null,
   "metadata": {
    "collapsed": true
   },
   "outputs": [],
   "source": []
  }
 ],
 "metadata": {
  "kernelspec": {
   "display_name": "Python 3",
   "language": "python",
   "name": "python3"
  },
  "language_info": {
   "codemirror_mode": {
    "name": "ipython",
    "version": 3
   },
   "file_extension": ".py",
   "mimetype": "text/x-python",
   "name": "python",
   "nbconvert_exporter": "python",
   "pygments_lexer": "ipython3",
   "version": "3.6.1"
  }
 },
 "nbformat": 4,
 "nbformat_minor": 2
}
